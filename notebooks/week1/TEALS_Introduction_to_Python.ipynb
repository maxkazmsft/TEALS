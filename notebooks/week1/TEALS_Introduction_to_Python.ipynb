{
  "nbformat": 4,
  "nbformat_minor": 0,
  "metadata": {
    "colab": {
      "name": "TEALS - Introduction to Python.ipynb",
      "provenance": [],
      "collapsed_sections": [
        "uiHhmgb96BlS"
      ]
    },
    "kernelspec": {
      "name": "python3",
      "display_name": "Python 3"
    },
    "language_info": {
      "name": "python"
    }
  },
  "cells": [
    {
      "cell_type": "markdown",
      "metadata": {
        "id": "5CaI7ZXqwuJj"
      },
      "source": [
        "# TEALS/AGCI-ROWE SUMMER AI PROGRAM\n",
        "## Introduction to Python  \n",
        "\n",
        "This notebook introduces sombe basic Python concepts. It is not exhaustive and just scratches the surface. It is meant to help you get started into an exciting journey of Python and AI. \n",
        "\n",
        "\n",
        "#### References  \n",
        "Content used in creating this notebook is derived from the following resources. They are free online and should be used as resources for further and indepth studies.  \n",
        "\n",
        "- [Intro to Python 3 Programming Tutorial](https://www.youtube.com/watch?v=eXBD2bB9-RA&t=5s&ab_channel=sentdex)  \n",
        "- [Official Python 3 Tutorial](https://docs.python.org/3/tutorial/index.html)\n",
        "- [Udacity Introduction to Python Free Course](https://www.udacity.com/course/introduction-to-python--ud1110)  \n",
        "- [Python Tutorial - W3 Schools](https://www.w3schools.com/python/default.asp)"
      ]
    },
    {
      "cell_type": "markdown",
      "metadata": {
        "id": "MV6mqqb9EySU"
      },
      "source": [
        "### Installation  \n",
        "The first thing you need is to download Python. You can get this directly from the official Python website [downloads](https://www.python.org/downloads/) page. Depending on your platform, it should be an easy installation of the executable file.    \n",
        "\n",
        "> The latest is Python 3.9.6 at the time of writing this.  \n",
        "\n",
        "### IDE\n",
        "After installing Python, next most important thing is selecting an **Integrated Development Environment (IDE)**.  \n",
        "\n",
        "Here are a few options:  \n",
        "- **Notepad/Textpad**  \n",
        "\n",
        "- [IDLE](https://docs.python.org/3/library/idle.html#:~:text=IDLE%20is%20Python%E2%80%99s%20Integrated%20Development%20and%20Learning%20Environment.,mostly%20the%20same%20on%20Windows%2C%20Unix%2C%20and%20macOS)\n",
        "\n",
        "- [Visual Studio Code](https://code.visualstudio.com/)  \n",
        "\n",
        "- [Sublime Text](https://www.sublimetext.com/)  \n",
        "\n",
        "- [PyCharm](https://www.jetbrains.com/pycharm/)\n"
      ]
    },
    {
      "cell_type": "markdown",
      "metadata": {
        "id": "yFNvnU1IZq89"
      },
      "source": [
        "### Python Syntax  \n",
        "\n",
        "#### Print Statements:  \n",
        "The first thing anyone should learn is how to print statements out to console. This is done using the **print** statements."
      ]
    },
    {
      "cell_type": "code",
      "metadata": {
        "colab": {
          "base_uri": "https://localhost:8080/"
        },
        "id": "3nC4HZG8UTkI",
        "outputId": "8e525969-715d-477c-c76f-6dcbc2492b91"
      },
      "source": [
        "print(\"Hello World!\")"
      ],
      "execution_count": null,
      "outputs": [
        {
          "output_type": "stream",
          "text": [
            "Hello World!\n"
          ],
          "name": "stdout"
        }
      ]
    },
    {
      "cell_type": "markdown",
      "metadata": {
        "id": "uiHhmgb96BlS"
      },
      "source": [
        "The same code can be written in a file that ends with `.py`, for example `example_script.py`. Executing the code can be done by running the following:  \n",
        "\n",
        "```\n",
        "python example_script.py\n",
        "```\n",
        "\n",
        "#### Indentation  \n",
        "To create a block and scope in Python, we use indentation. Indentation is the spaces at the beginning of a line of code. Other languages use indentatation for clarity and readibility, in Python it's baked into the language syntax\n",
        "```\n",
        "if 10 < 20:\n",
        "   print(\"Ten is less than twenty, right?\") \n",
        "```  \n",
        "\n",
        "An error is seen without indentation  \n",
        "```\n",
        "if 10 < 20:\n",
        "print(\"Ten is less than twenty, right?\") \n",
        "``` \n",
        "\n",
        "> **The number of spaces is up to you but you have to stay consistent. Best practice is usually 4 spaces**.  \n",
        "\n",
        "```\n",
        "if 5 > 2:\n",
        " print(\"Ten is less than twenty, right?\")\n",
        "        print(\"Ten is less than twenty, right?\")\n",
        "```"
      ]
    },
    {
      "cell_type": "markdown",
      "metadata": {
        "id": "A0SOwv4fZ8yi"
      },
      "source": [
        "### Variables  \n",
        "A variable is a reserved memory location to store values. Everything in Python is an object, and a variable can be seen as a literal representation with that object. Every value has a data type in Python.  \n",
        "\n",
        "variables are literarily created when you assign a value to something. The datatype is inferred from the data assigned.  \n",
        "\n",
        "```\n",
        "foo = 4\n",
        "bar = \"We are learning Python 3!\"\n",
        "baz = [1 ,2, 3]\n",
        "bay = (1, 2, 3,)\n",
        "```\n"
      ]
    },
    {
      "cell_type": "code",
      "metadata": {
        "id": "yP7FwFwtWJqO"
      },
      "source": [
        "foo = 4\n",
        "bar = \"We are learning Python 3!\"\n",
        "baz = [1 ,2, 3]\n",
        "bay = (1, 2, 3,)"
      ],
      "execution_count": null,
      "outputs": []
    },
    {
      "cell_type": "code",
      "metadata": {
        "colab": {
          "base_uri": "https://localhost:8080/"
        },
        "id": "vhNaMGZVRM8O",
        "outputId": "6dd8a36c-fd24-4b19-ea63-ff6ad5133875"
      },
      "source": [
        "print(foo)\n",
        "print(bar)\n",
        "print(baz)\n",
        "print(bay)\n",
        "print(foo, bar, baz, bay)\n"
      ],
      "execution_count": null,
      "outputs": [
        {
          "output_type": "stream",
          "text": [
            "4\n",
            "We are learning Python 3!\n",
            "[1, 2, 3]\n",
            "(1, 2, 3)\n",
            "4 We are learning Python 3! [1, 2, 3] (1, 2, 3)\n"
          ],
          "name": "stdout"
        }
      ]
    },
    {
      "cell_type": "markdown",
      "metadata": {
        "id": "uqFu-HPrgoTp"
      },
      "source": [
        "Variable types are inferred by what value is assigned to them. You can also change the data type after assignment. "
      ]
    },
    {
      "cell_type": "code",
      "metadata": {
        "colab": {
          "base_uri": "https://localhost:8080/"
        },
        "id": "T7XUza2qg8bY",
        "outputId": "e20614b5-c8ae-49fd-d69f-31a7c67ec560"
      },
      "source": [
        "a = 6\n",
        "print(type(a))\n",
        "print(a, end=\"\\n\\n\") \n",
        "\n",
        "a = \"a is now a string\"\n",
        "print(type(a))\n",
        "print(a, end=\"\\n\\n\") \n",
        "\n",
        "a = [1, 2, 3]\n",
        "print(type(a))\n",
        "print(a, end=\"\\n\\n\") "
      ],
      "execution_count": null,
      "outputs": [
        {
          "output_type": "stream",
          "text": [
            "<class 'int'>\n",
            "6\n",
            "\n",
            "<class 'str'>\n",
            "a is now a string\n",
            "\n",
            "<class 'list'>\n",
            "[1, 2, 3]\n",
            "\n"
          ],
          "name": "stdout"
        }
      ]
    },
    {
      "cell_type": "markdown",
      "metadata": {
        "id": "sk23lxYCwm-2"
      },
      "source": [
        "#### Casting  \n",
        "You can force a value to a specific data type through casting "
      ]
    },
    {
      "cell_type": "code",
      "metadata": {
        "colab": {
          "base_uri": "https://localhost:8080/"
        },
        "id": "PtxVD8PIw1kO",
        "outputId": "e8a1a626-7636-4bc0-a66d-6098e174012b"
      },
      "source": [
        "x = str(10)    # x will be '10'.\n",
        "y = int(10)    # y will be 10\n",
        "z = float(10)  # z will be 10.0\n",
        "\n",
        "print(repr(x), repr(y), repr(z))"
      ],
      "execution_count": null,
      "outputs": [
        {
          "output_type": "stream",
          "text": [
            "'10' 10 10.0\n"
          ],
          "name": "stdout"
        }
      ]
    },
    {
      "cell_type": "markdown",
      "metadata": {
        "id": "1P-D8C25xmzw"
      },
      "source": [
        "Strings can be single or double-quoted. Variable names are also case-sensitive.   \n",
        "\n",
        "The following makes three different variables:   "
      ]
    },
    {
      "cell_type": "code",
      "metadata": {
        "colab": {
          "base_uri": "https://localhost:8080/"
        },
        "id": "-lcdGKgjyYS-",
        "outputId": "bfdec222-632f-410b-bac0-6ea72f601aed"
      },
      "source": [
        "foo = 10\n",
        "FOO = 20\n",
        "Foo = 30\n",
        "\n",
        "print(foo, FOO, Foo)"
      ],
      "execution_count": null,
      "outputs": [
        {
          "output_type": "stream",
          "text": [
            "10 20 30\n"
          ],
          "name": "stdout"
        }
      ]
    },
    {
      "cell_type": "markdown",
      "metadata": {
        "id": "Uj5_1CnVa6Xy"
      },
      "source": [
        "#### Comments  \n",
        "Python has a single-line comment syntax. There is nothing for multi-line comments but in practice you can use a multi-line string as comment. Single lines start with # and multi-line string comments are enclosed with two `\"\"\"`  \n",
        "\n",
        "```\n",
        "# This is a single line comment \n",
        "\n",
        "\"\"\"\n",
        "This is a multi-line comment\n",
        "You can type more than one line and this is usually done in documentation\n",
        "\"\"\"\n",
        "```\n"
      ]
    },
    {
      "cell_type": "code",
      "metadata": {
        "colab": {
          "base_uri": "https://localhost:8080/"
        },
        "id": "KDMXlrCZRRsu",
        "outputId": "f0cdab14-ebe4-4ad7-c8c5-f7accdd13792"
      },
      "source": [
        "# This is a single line comment \n",
        "print(foo)\n",
        "\n",
        "print(bar) # This is also a single line comment"
      ],
      "execution_count": null,
      "outputs": [
        {
          "output_type": "stream",
          "text": [
            "4\n",
            "We are learning Python 3!\n"
          ],
          "name": "stdout"
        }
      ]
    },
    {
      "cell_type": "code",
      "metadata": {
        "colab": {
          "base_uri": "https://localhost:8080/"
        },
        "id": "l3b7qSSybNrr",
        "outputId": "22ba123b-9c4d-4f2f-c2d7-4521184f0380"
      },
      "source": [
        "# You can write a multi-line \n",
        "# comment like this\n",
        "# and this is valid\n",
        "print(baz)\n",
        "\n",
        "\n",
        "\"\"\" Or you can use a multi-line string\n",
        "comment like this, and it should be fine \n",
        "as well too.  \n",
        "This works but not as intended by the creators \n",
        "of Python, but it works.\n",
        "\"\"\"\n",
        "print(bay)"
      ],
      "execution_count": null,
      "outputs": [
        {
          "output_type": "stream",
          "text": [
            "[1, 2, 3]\n",
            "(1, 2, 3)\n"
          ],
          "name": "stdout"
        }
      ]
    },
    {
      "cell_type": "markdown",
      "metadata": {
        "id": "6jwvIrOWy2XF"
      },
      "source": [
        "### Variable Naming Rules   \n",
        "- Are case sensitive.  \n",
        "- Must begin with a letter or underscore. Hyphens and whitespaces are not allowed.    \n",
        "- Can be a single letter or long and descriptive.  \n",
        "- Can only include alphahumeric characters and underscores.  \n",
        "- Cannot begin with a number.  \n",
        "\n",
        "Below are some examples:  \n",
        "\n",
        "```\n",
        "# Valid variable names  \n",
        "varname = \"Emmanuel\"\n",
        "var_name = \"Emmanuel\"\n",
        "_var_name = \"Emmanuel\"\n",
        "varName = \"Emmanuel\"\n",
        "VARNAME = \"Emmanuel\"\n",
        "varname14 = \"Emmanuel\"\n",
        "\n",
        "# Invalid variable names  \n",
        "14varName = \"Emmanuel\"\n",
        "var-name = \"Emmanuel\"\n",
        "var name = \"Emmanuel\"\n",
        "```  \n",
        "\n",
        "#### Variable Name Conventions  \n",
        "\n",
        "- Camel Case: `varName`  \n",
        "- Pascal Case: `VarName`\n",
        "- Snake Case: `var_name`  \n",
        "\n",
        "\n",
        "You can also assign multiple variable in one line or assign the same value to multiple variables\n"
      ]
    },
    {
      "cell_type": "code",
      "metadata": {
        "colab": {
          "base_uri": "https://localhost:8080/"
        },
        "id": "ZagEHiB8DBiz",
        "outputId": "2040b707-3c05-47b9-a654-e1e010d5d8d1"
      },
      "source": [
        "a, b, c = \"first\", \"second\", \"third\"\n",
        "print(a, b, c)\n",
        "\n",
        "a = b = c = \"same value\"\n",
        "print(a, b, c, sep=\" | \")"
      ],
      "execution_count": null,
      "outputs": [
        {
          "output_type": "stream",
          "text": [
            "first second third\n",
            "same value | same value | same value\n"
          ],
          "name": "stdout"
        }
      ]
    },
    {
      "cell_type": "markdown",
      "metadata": {
        "id": "iFE1DZXcCQNJ"
      },
      "source": [
        "#### Unpacking a collection into variables  \n",
        "\n",
        "You can also unpack a collection with the same number of variables in the collection. For example:  \n"
      ]
    },
    {
      "cell_type": "code",
      "metadata": {
        "colab": {
          "base_uri": "https://localhost:8080/"
        },
        "id": "300VTdgEEkkY",
        "outputId": "ff93dbce-4bca-4016-b2ec-393415fe8730"
      },
      "source": [
        "\n",
        "first_names = [\"Sally\", \"Bob\", \"Emmanuel\"]\n",
        "sally, bob, emmanuel = first_names\n",
        "print(sally)\n",
        "print(bob)\n",
        "print(emmanuel)\n",
        "\n",
        "\n",
        "\n",
        "\n",
        "# Unpacking tuples\n",
        "first_names = (\"Sally\", \"Bob\", \"Emmanuel\")\n",
        "(sally, bob, emmanuel) = first_names\n",
        "print(sally)\n",
        "print(bob)\n",
        "print(emmanuel)"
      ],
      "execution_count": null,
      "outputs": [
        {
          "output_type": "stream",
          "text": [
            "Sally\n",
            "Bob\n",
            "Emmanuel\n",
            "Sally\n",
            "Bob\n",
            "Emmanuel\n"
          ],
          "name": "stdout"
        }
      ]
    },
    {
      "cell_type": "markdown",
      "metadata": {
        "id": "-jC55Rp4Hisf"
      },
      "source": [
        "#### Global vs Local Variables"
      ]
    },
    {
      "cell_type": "code",
      "metadata": {
        "colab": {
          "base_uri": "https://localhost:8080/"
        },
        "id": "MeKENZZ7HmIk",
        "outputId": "f62afe6f-1786-45da-ae00-9efd557b61f3"
      },
      "source": [
        "x = \"global\"\n",
        "\n",
        "def test_func():\n",
        "  print(\"x is: \", x)\n",
        "\n",
        "def test_func2():\n",
        "  x = \"local\"\n",
        "  print(\"x is: \", x)\n",
        "\n",
        "# Using the keyword global makes a variable in the local scope global\n",
        "def test_func3():\n",
        "  global x \n",
        "  x = \"Glbally local now\"\n",
        "  print(\"x is: \", x)\n",
        "\n",
        "test_func()\n",
        "test_func2()\n",
        "test_func3()\n",
        "print(x)"
      ],
      "execution_count": null,
      "outputs": [
        {
          "output_type": "stream",
          "text": [
            "x is:  global\n",
            "x is:  local\n",
            "x is:  Glbally local now\n",
            "Glbally local now\n"
          ],
          "name": "stdout"
        }
      ]
    },
    {
      "cell_type": "markdown",
      "metadata": {
        "id": "cD1pMaYPbFzl"
      },
      "source": [
        "\n",
        "#### Python Data Types  \n",
        "1. Numbers  \n",
        "1. List  \n",
        "1. Tuple  \n",
        "1. Strings  \n",
        "1. Dictionary  \n",
        "\n",
        "Every value in Python has a datatype. Different data types in Python are Numbers, List, Tuple, Strings, Dictionary, etc. Variables in Python can be declared by any name or even alphabets like a, aa, abc, etc.\n",
        " \n",
        "\n",
        "\n",
        "\n",
        "\n",
        "\n",
        "### Loops  \n",
        "\n",
        "\n",
        "## Conditionals"
      ]
    },
    {
      "cell_type": "code",
      "metadata": {
        "id": "wJq-N3XmOJ1X"
      },
      "source": [
        "var_str = \"Hello Teals\"\n",
        "var_int = 20\n",
        "var_float = 20.5\n",
        "var_complex = 1j\n",
        "var_list = [\"first\", \"second\", \"third\"]\n",
        "var_tuple = (\"first\", \"second\", \"third\")\n",
        "var_range = range(10)\n",
        "var_dict = {\"first_name\": \"Emmanuel\", \"last_name\": \"Awa\"}\n",
        "var_set = {\"one\", \"two\", \"two\", \"three\"}\n",
        "var_frozenset = frozenset((\"one\", \"two\", \"two\", \"three\"))\n",
        "var_bool = True \n",
        "var_bytes = b\"Hello Teals\"\n",
        "var_bytearray = bytearray(5)\n",
        "var_memoryview = memoryview(bytes(5))"
      ],
      "execution_count": null,
      "outputs": []
    },
    {
      "cell_type": "markdown",
      "metadata": {
        "id": "QACM0dZ5WjR6"
      },
      "source": [
        "> **NOTE:** Complex types cannot be converted to any other numeric type."
      ]
    },
    {
      "cell_type": "code",
      "metadata": {
        "colab": {
          "base_uri": "https://localhost:8080/"
        },
        "id": "n2H1GAZNEw9d",
        "outputId": "7fbdfc88-ac1a-489f-ea10-a3c9a765f744"
      },
      "source": [
        "print(var_range)"
      ],
      "execution_count": null,
      "outputs": [
        {
          "output_type": "stream",
          "text": [
            "range(0, 10)\n"
          ],
          "name": "stdout"
        }
      ]
    },
    {
      "cell_type": "code",
      "metadata": {
        "id": "wuJS9m_5SIrk"
      },
      "source": [
        ""
      ],
      "execution_count": null,
      "outputs": []
    },
    {
      "cell_type": "markdown",
      "metadata": {
        "id": "kybxmhGCYerU"
      },
      "source": [
        "### Operators\n",
        "- Arithmetic - (+, -, *, /, %, **, //)\n",
        "- Logical - (and, or, not)\n",
        "- Assignment - (=, +=, -=, *=, /=, %=, //=, **=, &=, |=, ^=, >>=, <<=)\n",
        "- Comprison - (==, !=, >, <, >=, <=)\n",
        "- Identity - (is, is not)\n",
        "- Membership - (in, not in)\n",
        "- Bitwise - (&, |, ~, ^, <<, <<)\n",
        "\n",
        "\n",
        "\n",
        "### Conditionals\n",
        "Used to test a condition of statement in order to perform an action  "
      ]
    },
    {
      "cell_type": "code",
      "metadata": {
        "colab": {
          "base_uri": "https://localhost:8080/"
        },
        "id": "l3K3LdS7aqfi",
        "outputId": "6ba998fa-ec97-45cd-8c14-453ee250b9b8"
      },
      "source": [
        "x, y = 10, 10\n",
        "\n",
        "if x > y:\n",
        "  print(\"X is greater than Y\")\n",
        "elif x == y:\n",
        "  print(\"X is the same as Y\")\n",
        "else:\n",
        "  print(\"X is less than Y\")"
      ],
      "execution_count": null,
      "outputs": [
        {
          "output_type": "stream",
          "text": [
            "X is the same as Y\n"
          ],
          "name": "stdout"
        }
      ]
    },
    {
      "cell_type": "markdown",
      "metadata": {
        "id": "tk9ZcUE2esM2"
      },
      "source": [
        "Python has one-liner `if else` statements called **CONDITIONAL EXPRESSIONS** or **TERNARY OPERATORS**"
      ]
    },
    {
      "cell_type": "code",
      "metadata": {
        "colab": {
          "base_uri": "https://localhost:8080/"
        },
        "id": "9_StOTtceQag",
        "outputId": "c75a9417-b608-472e-a65d-4edd385f78bf"
      },
      "source": [
        "print(\"X is less than Y\") if x > y else print(\"X is the same as Y\") if x == y else  print(\"X is less than Y\")"
      ],
      "execution_count": null,
      "outputs": [
        {
          "output_type": "stream",
          "text": [
            "X is the same as Y\n"
          ],
          "name": "stdout"
        }
      ]
    },
    {
      "cell_type": "markdown",
      "metadata": {
        "id": "rdFXsw-ah5dR"
      },
      "source": [
        "Conditionals can be used in conjuction with logical operators like `and`, `or` to test multiple conditions.  \n",
        "\n",
        "#### Pass keyword  \n",
        "`pass` can be used to by-pass a block of code. "
      ]
    },
    {
      "cell_type": "code",
      "metadata": {
        "id": "G0-KUW8WiQZV"
      },
      "source": [
        "def test_pass():\n",
        "  pass\n",
        "\n",
        "\n",
        "class TestPass:\n",
        "  pass \n",
        "\n",
        "if x < y:\n",
        "  pass "
      ],
      "execution_count": null,
      "outputs": []
    },
    {
      "cell_type": "markdown",
      "metadata": {
        "id": "NgRHrGDnih-6"
      },
      "source": [
        "### Loops  \n",
        "Python comes in-built with two primitive loops  \n",
        "\n",
        "- While\n",
        "- For "
      ]
    },
    {
      "cell_type": "code",
      "metadata": {
        "colab": {
          "base_uri": "https://localhost:8080/"
        },
        "id": "bTSJR-o2idFo",
        "outputId": "48ade244-e387-49ea-f0f0-c34f2092dbc6"
      },
      "source": [
        "i = 1\n",
        "while i < 20:\n",
        "  print(i)\n",
        "  i += 1\n",
        "  "
      ],
      "execution_count": null,
      "outputs": [
        {
          "output_type": "stream",
          "text": [
            "1\n",
            "2\n",
            "3\n",
            "4\n",
            "5\n",
            "6\n",
            "7\n",
            "8\n",
            "9\n",
            "10\n",
            "11\n",
            "12\n",
            "13\n",
            "14\n",
            "15\n",
            "16\n",
            "17\n",
            "18\n",
            "19\n"
          ],
          "name": "stdout"
        }
      ]
    },
    {
      "cell_type": "markdown",
      "metadata": {
        "id": "MhgMQknpj7zx"
      },
      "source": [
        "#### Break\n",
        "`break` statements are used to terminate from loops."
      ]
    },
    {
      "cell_type": "code",
      "metadata": {
        "colab": {
          "base_uri": "https://localhost:8080/"
        },
        "id": "IRjI9P8cj3iq",
        "outputId": "045f9947-977f-49e3-bad9-9681e7d96574"
      },
      "source": [
        "i = 1\n",
        "while i < 20:\n",
        "  if i == 5:\n",
        "    break \n",
        "  print(i)\n",
        "  i += 1"
      ],
      "execution_count": null,
      "outputs": [
        {
          "output_type": "stream",
          "text": [
            "1\n",
            "2\n"
          ],
          "name": "stdout"
        }
      ]
    },
    {
      "cell_type": "markdown",
      "metadata": {
        "id": "uGEQR7NzlMhy"
      },
      "source": [
        "#### Continue  \n",
        "Terminates the current iteration and **continues** to the next"
      ]
    },
    {
      "cell_type": "code",
      "metadata": {
        "colab": {
          "base_uri": "https://localhost:8080/"
        },
        "id": "Cr9_VSY7kGCC",
        "outputId": "7a675d63-b4ca-4903-c610-fd450606c336"
      },
      "source": [
        "i = 0\n",
        "while i < 20:\n",
        "  i += 1\n",
        "  if i in range(3, 10):\n",
        "    continue \n",
        "  print(i)\n"
      ],
      "execution_count": null,
      "outputs": [
        {
          "output_type": "stream",
          "text": [
            "1\n",
            "2\n",
            "10\n",
            "11\n",
            "12\n",
            "13\n",
            "14\n",
            "15\n",
            "16\n",
            "17\n",
            "18\n",
            "19\n",
            "20\n"
          ],
          "name": "stdout"
        }
      ]
    },
    {
      "cell_type": "markdown",
      "metadata": {
        "id": "2W-cBCXdlzEZ"
      },
      "source": [
        "#### Loop and Else\n",
        "You can also choose to run a block of code right after a loop condition is executed.  "
      ]
    },
    {
      "cell_type": "code",
      "metadata": {
        "colab": {
          "base_uri": "https://localhost:8080/"
        },
        "id": "ljEl5JOqldUh",
        "outputId": "54a32b41-2c94-419d-f2c6-b0d4f5567ab6"
      },
      "source": [
        "i = 1\n",
        "while i < 10:\n",
        "  print(i)\n",
        "  i += 1\n",
        "else:\n",
        "  print(\"i is now less than 10\")"
      ],
      "execution_count": null,
      "outputs": [
        {
          "output_type": "stream",
          "text": [
            "1\n",
            "2\n",
            "3\n",
            "4\n",
            "5\n",
            "6\n",
            "7\n",
            "8\n",
            "9\n",
            "i is now less than 10\n"
          ],
          "name": "stdout"
        }
      ]
    },
    {
      "cell_type": "markdown",
      "metadata": {
        "id": "3mIoLU7qpJj6"
      },
      "source": [
        "### For Loop\n",
        "Used in iterating through a sequence or collection. More similar to an iterator in other languages that `for` keyword.\n"
      ]
    },
    {
      "cell_type": "code",
      "metadata": {
        "colab": {
          "base_uri": "https://localhost:8080/"
        },
        "id": "oQy9raHImYgc",
        "outputId": "4c8d1fe8-6977-4450-9028-3cb7c2172576"
      },
      "source": [
        "numbers = list(range(10))\n",
        "\n",
        "for num in numbers:\n",
        "  print(num)"
      ],
      "execution_count": null,
      "outputs": [
        {
          "output_type": "stream",
          "text": [
            "0\n",
            "1\n",
            "2\n",
            "3\n",
            "4\n",
            "5\n",
            "6\n",
            "7\n",
            "8\n",
            "9\n"
          ],
          "name": "stdout"
        }
      ]
    },
    {
      "cell_type": "markdown",
      "metadata": {
        "id": "Y__ymCf5qxH3"
      },
      "source": [
        "Similarly, `pass`, `continue`, `break` and `else` are used the same way in `for` loops. One thing to note is that the `else` block will not be executed if the `break` keyword is used.\n",
        "\n",
        "\n",
        "### Functions  \n",
        "A named block of code that only runs when the name is called. We've seen this already above. Howeverfunctions can also take parameters by name or arbitary using `*args`"
      ]
    },
    {
      "cell_type": "code",
      "metadata": {
        "colab": {
          "base_uri": "https://localhost:8080/"
        },
        "id": "iSUh_rXyqoKg",
        "outputId": "880e52e4-c8cb-4027-fb9b-e7c02c1839d1"
      },
      "source": [
        "def print_name(first_name: str):\n",
        "  print(f\"My name is: {first_name}\") # f-string formatting. More readibility, concise and faster.\n",
        "\n",
        "print_name(\"Emily\")\n",
        "print_name(\"Victor\")\n",
        "print_name(\"Obinna\")"
      ],
      "execution_count": null,
      "outputs": [
        {
          "output_type": "stream",
          "text": [
            "My name is: Emily\n",
            "My name is: Victor\n",
            "My name is: Obinna\n"
          ],
          "name": "stdout"
        }
      ]
    },
    {
      "cell_type": "code",
      "metadata": {
        "colab": {
          "base_uri": "https://localhost:8080/"
        },
        "id": "oruyMfRNs946",
        "outputId": "21726a7b-00be-4507-b12e-b210885b546a"
      },
      "source": [
        "def print_names(*names):\n",
        "  print(\"All names are: \", names)\n",
        "\n",
        "print_names(\"Emil\", \"Tobias\", \"Linus\")"
      ],
      "execution_count": null,
      "outputs": [
        {
          "output_type": "stream",
          "text": [
            "All names are:  ('Emil', 'Tobias', 'Linus')\n"
          ],
          "name": "stdout"
        }
      ]
    },
    {
      "cell_type": "markdown",
      "metadata": {
        "id": "SdrH0aO7tnJg"
      },
      "source": [
        "Functions can also take keyword arguments, which is a dictionary (key/value) object."
      ]
    },
    {
      "cell_type": "code",
      "metadata": {
        "colab": {
          "base_uri": "https://localhost:8080/"
        },
        "id": "rYMZ0j4bt454",
        "outputId": "f6828091-117c-4ba2-bcf3-fa78fd48477a"
      },
      "source": [
        "def print_name_kwargs(**kwargs):\n",
        "  print(\"His last name is \" + kwargs[\"last_name\"])\n",
        "\n",
        "print_name_kwargs(first_name = \"Nathaniel\", last_name = \"Judy\")\n",
        "\n",
        "name_map = {\"first_name\": \"Nathaniel\", \"last_name\": \"Judy\"}\n",
        "print_name_kwargs(**name_map)"
      ],
      "execution_count": null,
      "outputs": [
        {
          "output_type": "stream",
          "text": [
            "His last name is Judy\n",
            "His last name is Judy\n"
          ],
          "name": "stdout"
        }
      ]
    },
    {
      "cell_type": "code",
      "metadata": {
        "id": "sQMfxDMyuhtq"
      },
      "source": [
        ""
      ],
      "execution_count": null,
      "outputs": []
    },
    {
      "cell_type": "markdown",
      "metadata": {
        "id": "0g35OMtXbDs0"
      },
      "source": [
        "### Lambdas\n",
        "Lambda is a nameless function. \n",
        "- Can take many arguments but can only have one expression\n",
        "- Useful for quick reusable one-liners that are required for a short time\n",
        "- Faster than functions as it’s evaluated at runtime\n"
      ]
    },
    {
      "cell_type": "code",
      "metadata": {
        "colab": {
          "base_uri": "https://localhost:8080/"
        },
        "id": "GBTNCo0pbQV2",
        "outputId": "b25cbbdd-6d69-4941-9141-f6fd7af5d8d7"
      },
      "source": [
        "my_lambda = lambda a, b, c : a + b + c\n",
        "my_lambda(1, 2, 3)"
      ],
      "execution_count": null,
      "outputs": [
        {
          "output_type": "execute_result",
          "data": {
            "text/plain": [
              "6"
            ]
          },
          "metadata": {
            "tags": []
          },
          "execution_count": 2
        }
      ]
    },
    {
      "cell_type": "markdown",
      "metadata": {
        "id": "8m1BVwMKbeFN"
      },
      "source": [
        "Lambdas can be useful when used inside another function. For example "
      ]
    },
    {
      "cell_type": "code",
      "metadata": {
        "colab": {
          "base_uri": "https://localhost:8080/"
        },
        "id": "BI1MQDxQbaDC",
        "outputId": "e8e0fb0a-c6a1-4a3f-b5bb-349def715c3c"
      },
      "source": [
        "def number_multiplier(n: int) -> int:\n",
        "  return lambda x: x * n\n",
        "\n",
        "doubler = number_multiplier(2)\n",
        "doubler(50)"
      ],
      "execution_count": null,
      "outputs": [
        {
          "output_type": "execute_result",
          "data": {
            "text/plain": [
              "100"
            ]
          },
          "metadata": {
            "tags": []
          },
          "execution_count": 3
        }
      ]
    },
    {
      "cell_type": "code",
      "metadata": {
        "id": "Pq0Ax6y3cMkK"
      },
      "source": [
        ""
      ],
      "execution_count": null,
      "outputs": []
    }
  ]
}