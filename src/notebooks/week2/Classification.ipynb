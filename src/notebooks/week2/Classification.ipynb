{
  "nbformat": 4,
  "nbformat_minor": 0,
  "metadata": {
    "colab": {
      "name": "Classification.ipynb",
      "provenance": [],
      "collapsed_sections": []
    },
    "kernelspec": {
      "name": "python3",
      "display_name": "Python 3"
    },
    "language_info": {
      "name": "python"
    }
  },
  "cells": [
    {
      "cell_type": "code",
      "metadata": {
        "id": "h83PHB8bVVsn"
      },
      "source": [
        "import matplotlib.pyplot as plt"
      ],
      "execution_count": null,
      "outputs": []
    },
    {
      "cell_type": "markdown",
      "metadata": {
        "id": "NJDnXfPakRFp"
      },
      "source": [
        "# 1. Data Preparation\n",
        "## 1.1 Load Dataset\n",
        "We load the breast cancer dataset (https://archive.ics.uci.edu/ml/datasets/Breast+Cancer+Wisconsin+(Diagnostic)).\n",
        "\n",
        "Check the size - there are 569 total examples, with 30 features each.\n",
        "\n",
        "Print the feature names and the names of the 2 target classes.\n",
        "Each example represents a mass, with features to describe attributes of the digitized image. Each mass is classified as malignant or benign."
      ]
    },
    {
      "cell_type": "code",
      "metadata": {
        "colab": {
          "base_uri": "https://localhost:8080/"
        },
        "id": "zuOWGfNRVVm8",
        "outputId": "5de911ca-dcc6-43d2-c442-c976268860f2"
      },
      "source": [
        "from sklearn.datasets import load_breast_cancer\n",
        "cancer_dataset = load_breast_cancer()\n",
        "print(cancer_dataset.data.shape)"
      ],
      "execution_count": null,
      "outputs": [
        {
          "output_type": "stream",
          "text": [
            "(569, 30)\n"
          ],
          "name": "stdout"
        }
      ]
    },
    {
      "cell_type": "code",
      "metadata": {
        "colab": {
          "base_uri": "https://localhost:8080/"
        },
        "id": "zkegetyDVVdm",
        "outputId": "db8a8935-9a84-4eed-c531-436e12d8baf6"
      },
      "source": [
        "print('Feature Names: {}\\n'.format(cancer_dataset.feature_names))\n",
        "print('Classes: {}'.format(cancer_dataset.target_names))"
      ],
      "execution_count": null,
      "outputs": [
        {
          "output_type": "stream",
          "text": [
            "Feature Names: ['mean radius' 'mean texture' 'mean perimeter' 'mean area'\n",
            " 'mean smoothness' 'mean compactness' 'mean concavity'\n",
            " 'mean concave points' 'mean symmetry' 'mean fractal dimension'\n",
            " 'radius error' 'texture error' 'perimeter error' 'area error'\n",
            " 'smoothness error' 'compactness error' 'concavity error'\n",
            " 'concave points error' 'symmetry error' 'fractal dimension error'\n",
            " 'worst radius' 'worst texture' 'worst perimeter' 'worst area'\n",
            " 'worst smoothness' 'worst compactness' 'worst concavity'\n",
            " 'worst concave points' 'worst symmetry' 'worst fractal dimension']\n",
            "\n",
            "Classes: ['malignant' 'benign']\n"
          ],
          "name": "stdout"
        }
      ]
    },
    {
      "cell_type": "code",
      "metadata": {
        "colab": {
          "base_uri": "https://localhost:8080/"
        },
        "id": "ccwpv7H8aRXH",
        "outputId": "6547d05c-696c-4d67-ba55-354744d2a7ee"
      },
      "source": [
        "print(list(zip(cancer_dataset.feature_names, cancer_dataset.data[0])))\n",
        "print(cancer_dataset.target_names[cancer_dataset.target[0]])"
      ],
      "execution_count": null,
      "outputs": [
        {
          "output_type": "stream",
          "text": [
            "[('mean radius', 17.99), ('mean texture', 10.38), ('mean perimeter', 122.8), ('mean area', 1001.0), ('mean smoothness', 0.1184), ('mean compactness', 0.2776), ('mean concavity', 0.3001), ('mean concave points', 0.1471), ('mean symmetry', 0.2419), ('mean fractal dimension', 0.07871), ('radius error', 1.095), ('texture error', 0.9053), ('perimeter error', 8.589), ('area error', 153.4), ('smoothness error', 0.006399), ('compactness error', 0.04904), ('concavity error', 0.05373), ('concave points error', 0.01587), ('symmetry error', 0.03003), ('fractal dimension error', 0.006193), ('worst radius', 25.38), ('worst texture', 17.33), ('worst perimeter', 184.6), ('worst area', 2019.0), ('worst smoothness', 0.1622), ('worst compactness', 0.6656), ('worst concavity', 0.7119), ('worst concave points', 0.2654), ('worst symmetry', 0.4601), ('worst fractal dimension', 0.1189)]\n",
            "malignant\n"
          ],
          "name": "stdout"
        }
      ]
    },
    {
      "cell_type": "markdown",
      "metadata": {
        "id": "LTLl9ojUkY0f"
      },
      "source": [
        "## 1.2 Train-Test Data Split\n",
        "Create train and test datasets.\n",
        "Train dataset is 80% of data. Test dataset is 20% of data.\n",
        "\n",
        "Check lengths of train and test datasets compared to length of original dataset."
      ]
    },
    {
      "cell_type": "code",
      "metadata": {
        "colab": {
          "base_uri": "https://localhost:8080/"
        },
        "id": "5rDQtHkmkYDO",
        "outputId": "52a821c8-da5e-4fc8-f46d-509d029d60eb"
      },
      "source": [
        "from sklearn.model_selection import train_test_split\n",
        "X_train, X_test, Y_train, Y_test = train_test_split(cancer_dataset.data, cancer_dataset.target, test_size = 0.20, random_state = 0)\n",
        "print('Length of full dataset: {}'.format(len(cancer_dataset.data)))\n",
        "print('Length of train dataset: {}'.format(len(X_train)))\n",
        "print('Length of test dataset: {}'.format(len(X_test)))"
      ],
      "execution_count": null,
      "outputs": [
        {
          "output_type": "stream",
          "text": [
            "Length of full dataset: 569\n",
            "Length of train dataset: 455\n",
            "Length of test dataset: 114\n"
          ],
          "name": "stdout"
        }
      ]
    },
    {
      "cell_type": "markdown",
      "metadata": {
        "id": "rOE8idLjmIzF"
      },
      "source": [
        "## 1.3 Scale & Normalize Features\n",
        "Scale features using the `sklearn.preprocessing.StandardScaler`.\n",
        "\n",
        "Look at comparison of feature values for one example."
      ]
    },
    {
      "cell_type": "code",
      "metadata": {
        "colab": {
          "base_uri": "https://localhost:8080/"
        },
        "id": "JWVS0AxRkX8Q",
        "outputId": "73bd06d9-735b-4892-e51a-bb6e31391076"
      },
      "source": [
        "from sklearn.preprocessing import StandardScaler\n",
        "sc = StandardScaler()\n",
        "print('Before scaling: {}'.format(X_train[0]))\n",
        "X_train = sc.fit_transform(X_train)\n",
        "X_test = sc.transform(X_test)\n",
        "print('After scaling: {}'.format(X_train[0]))"
      ],
      "execution_count": null,
      "outputs": [
        {
          "output_type": "stream",
          "text": [
            "Before scaling: [1.005e+01 1.753e+01 6.441e+01 3.108e+02 1.007e-01 7.326e-02 2.511e-02\n",
            " 1.775e-02 1.890e-01 6.331e-02 2.619e-01 2.015e+00 1.778e+00 1.685e+01\n",
            " 7.803e-03 1.449e-02 1.690e-02 8.043e-03 2.100e-02 2.778e-03 1.116e+01\n",
            " 2.684e+01 7.198e+01 3.840e+02 1.402e-01 1.402e-01 1.055e-01 6.499e-02\n",
            " 2.894e-01 7.664e-02]\n",
            "After scaling: [-1.15036482 -0.39064196 -1.12855021 -0.95876358  0.3109837  -0.5959945\n",
            " -0.80259612 -0.80249002  0.29453906  0.0942515  -0.4950523   1.48720153\n",
            " -0.51448782 -0.49154005  0.28149837 -0.60451206 -0.46900701 -0.61170002\n",
            "  0.05798237 -0.35763702 -1.0431756   0.21353282 -1.0360446  -0.84880771\n",
            "  0.34249851 -0.73009743 -0.81232053 -0.75798367 -0.01614761 -0.38503402]\n"
          ],
          "name": "stdout"
        }
      ]
    },
    {
      "cell_type": "markdown",
      "metadata": {
        "id": "o9cenm6HpOGU"
      },
      "source": [
        "Now we are ready to do some modeling."
      ]
    },
    {
      "cell_type": "markdown",
      "metadata": {
        "id": "LnwFn1CMnTT0"
      },
      "source": [
        "# 2. Model Selection\n",
        "## 2.1 [Naive Bayes Classifier](https://scikit-learn.org/stable/modules/naive_bayes.html#naive-bayes)\n"
      ]
    },
    {
      "cell_type": "code",
      "metadata": {
        "colab": {
          "base_uri": "https://localhost:8080/"
        },
        "id": "pQgDEvklfw1m",
        "outputId": "2f4ab453-c9a3-4855-c838-92193035c73d"
      },
      "source": [
        "from sklearn.naive_bayes import GaussianNB\n",
        "classifier = GaussianNB()\n",
        "classifier.fit(X_train, Y_train)"
      ],
      "execution_count": null,
      "outputs": [
        {
          "output_type": "execute_result",
          "data": {
            "text/plain": [
              "GaussianNB(priors=None, var_smoothing=1e-09)"
            ]
          },
          "metadata": {
            "tags": []
          },
          "execution_count": 35
        }
      ]
    },
    {
      "cell_type": "markdown",
      "metadata": {
        "id": "l4FCzxb6fw1m"
      },
      "source": [
        "Use the trained model to predict on `X_test`"
      ]
    },
    {
      "cell_type": "code",
      "metadata": {
        "id": "9zrO_kd1fw1n"
      },
      "source": [
        "Y_pred = classifier.predict(X_test)"
      ],
      "execution_count": null,
      "outputs": []
    },
    {
      "cell_type": "markdown",
      "metadata": {
        "id": "zHd1bisBfw1n"
      },
      "source": [
        "Check performance by comparing predictions `Y_pred` with true labels `Y_test`.\n",
        "\n",
        "Compute accuracy. Then generate confusion matrix."
      ]
    },
    {
      "cell_type": "code",
      "metadata": {
        "colab": {
          "base_uri": "https://localhost:8080/"
        },
        "id": "s6k34Z7sfw1n",
        "outputId": "cc2746ba-eaef-4414-b02c-e8be1572daf3"
      },
      "source": [
        "from sklearn.metrics import accuracy_score\n",
        "acc = accuracy_score(Y_test, Y_pred)\n",
        "print('Accuracy on test dataset: {}'.format(acc))"
      ],
      "execution_count": null,
      "outputs": [
        {
          "output_type": "stream",
          "text": [
            "Accuracy on test dataset: 0.9035087719298246\n"
          ],
          "name": "stdout"
        }
      ]
    },
    {
      "cell_type": "code",
      "metadata": {
        "colab": {
          "base_uri": "https://localhost:8080/",
          "height": 279
        },
        "id": "QqYBC0cmfw1o",
        "outputId": "37b37c3e-e201-40b9-c216-b3fca079de09"
      },
      "source": [
        "from sklearn.metrics import plot_confusion_matrix\n",
        "disp = plot_confusion_matrix(\n",
        "    classifier, X_test, Y_test,\n",
        "    display_labels=cancer_dataset.target_names,\n",
        "    cmap=plt.cm.gist_earth\n",
        ")"
      ],
      "execution_count": null,
      "outputs": [
        {
          "output_type": "display_data",
          "data": {
            "image/png": "[encoded data removed]",
            "text/plain": [
              "<Figure size 432x288 with 2 Axes>"
            ]
          },
          "metadata": {
            "tags": [],
            "needs_background": "light"
          }
        }
      ]
    },
    {
      "cell_type": "markdown",
      "metadata": {
        "id": "heHhLmX9ASfz"
      },
      "source": [
        "## 2.2 [KNN Classification](https://scikit-learn.org/stable/modules/neighbors.html)\n",
        "KNN stands for K-Nearest Neighbor\n",
        "\n",
        "We cluster training data, then classify test data points based on the train data points they are closest to.\n",
        "\n",
        "![](http://res.cloudinary.com/dyd911kmh/image/upload/f_auto,q_auto:best/v1531424125/KNN_final1_ibdm8a.png)"
      ]
    },
    {
      "cell_type": "code",
      "metadata": {
        "id": "bnQuEWf2kX3u",
        "colab": {
          "base_uri": "https://localhost:8080/"
        },
        "outputId": "f9748220-dc3d-4b8e-886b-9863cefead2c"
      },
      "source": [
        "from sklearn.neighbors import KNeighborsClassifier\n",
        "classifier = KNeighborsClassifier(n_neighbors = 5, metric = 'minkowski', p = 2)\n",
        "classifier.fit(X_train, Y_train)"
      ],
      "execution_count": null,
      "outputs": [
        {
          "output_type": "execute_result",
          "data": {
            "text/plain": [
              "KNeighborsClassifier(algorithm='auto', leaf_size=30, metric='minkowski',\n",
              "                     metric_params=None, n_jobs=None, n_neighbors=5, p=2,\n",
              "                     weights='uniform')"
            ]
          },
          "metadata": {
            "tags": []
          },
          "execution_count": 39
        }
      ]
    },
    {
      "cell_type": "markdown",
      "metadata": {
        "id": "WE-_HKo0F--T"
      },
      "source": [
        "Use the trained model to predict on `X_test`"
      ]
    },
    {
      "cell_type": "code",
      "metadata": {
        "id": "LBJvGfKsF--r"
      },
      "source": [
        "Y_pred = classifier.predict(X_test)"
      ],
      "execution_count": null,
      "outputs": []
    },
    {
      "cell_type": "markdown",
      "metadata": {
        "id": "VvWIhhEMGCqP"
      },
      "source": [
        "Check performance by comparing predictions `Y_pred` with true labels `Y_test`.\n",
        "\n",
        "Compute accuracy. Then generate confusion matrix."
      ]
    },
    {
      "cell_type": "code",
      "metadata": {
        "colab": {
          "base_uri": "https://localhost:8080/"
        },
        "id": "bcFCoooLGCqQ",
        "outputId": "31bf3fd5-b31e-4958-a1b2-fe6d484e46fb"
      },
      "source": [
        "from sklearn.metrics import accuracy_score\n",
        "acc = accuracy_score(Y_test, Y_pred)\n",
        "print('Accuracy on test dataset: {}'.format(acc))"
      ],
      "execution_count": null,
      "outputs": [
        {
          "output_type": "stream",
          "text": [
            "Accuracy on test dataset: 0.956140350877193\n"
          ],
          "name": "stdout"
        }
      ]
    },
    {
      "cell_type": "code",
      "metadata": {
        "colab": {
          "base_uri": "https://localhost:8080/",
          "height": 279
        },
        "id": "UUYMtXTaGCqR",
        "outputId": "e208a162-4356-4d91-cd1a-7292de536d36"
      },
      "source": [
        "from sklearn.metrics import plot_confusion_matrix\n",
        "disp = plot_confusion_matrix(\n",
        "    classifier, X_test, Y_test,\n",
        "    display_labels=cancer_dataset.target_names,\n",
        "    cmap=plt.cm.gist_earth\n",
        ")"
      ],
      "execution_count": null,
      "outputs": [
        {
          "output_type": "display_data",
          "data": {
            "image/png": "[encoded data removed]",
            "text/plain": [
              "<Figure size 432x288 with 2 Axes>"
            ]
          },
          "metadata": {
            "tags": [],
            "needs_background": "light"
          }
        }
      ]
    },
    {
      "cell_type": "markdown",
      "metadata": {
        "id": "ic4bMS0eC6t9"
      },
      "source": [
        "Train the logistic regression model on `X_train` and `Y_train`"
      ]
    },
    {
      "cell_type": "markdown",
      "metadata": {
        "id": "k7wsivW5gu3x"
      },
      "source": [
        "## 2.3 [Logistic Regression](https://scikit-learn.org/stable/modules/linear_model.html#logistic-regression)\n",
        "![](https://miro.medium.com/max/700/0*VJPD6GZf6YHR8Dra.jpg)\n",
        "\n",
        "Linear regression equation:\n",
        "\n",
        "![](https://wikimedia.org/api/rest_v1/media/math/render/svg/836d93163447344be4715ec00638c1cd829e376c)\n",
        "\n",
        "Now constrain this value to be between 0 and 1 with a sigmoid:\n",
        "\n",
        "![](https://wikimedia.org/api/rest_v1/media/math/render/svg/e376fe69caee24c914fab1360de36900b7bb9c24)"
      ]
    },
    {
      "cell_type": "code",
      "metadata": {
        "id": "ujKLDy8okX5s",
        "colab": {
          "base_uri": "https://localhost:8080/"
        },
        "outputId": "f90d5842-7c22-42c9-d04e-b0e958f5200d"
      },
      "source": [
        "from sklearn.linear_model import LogisticRegression\n",
        "classifier = LogisticRegression(random_state = 0)\n",
        "classifier.fit(X_train, Y_train)"
      ],
      "execution_count": null,
      "outputs": [
        {
          "output_type": "execute_result",
          "data": {
            "text/plain": [
              "LogisticRegression(C=1.0, class_weight=None, dual=False, fit_intercept=True,\n",
              "                   intercept_scaling=1, l1_ratio=None, max_iter=100,\n",
              "                   multi_class='auto', n_jobs=None, penalty='l2',\n",
              "                   random_state=0, solver='lbfgs', tol=0.0001, verbose=0,\n",
              "                   warm_start=False)"
            ]
          },
          "metadata": {
            "tags": []
          },
          "execution_count": 43
        }
      ]
    },
    {
      "cell_type": "markdown",
      "metadata": {
        "id": "DdLSA_TgC478"
      },
      "source": [
        "Use the trained model to predict on `X_test`"
      ]
    },
    {
      "cell_type": "code",
      "metadata": {
        "id": "UUWRVpPknI5q"
      },
      "source": [
        "Y_pred = classifier.predict(X_test)"
      ],
      "execution_count": null,
      "outputs": []
    },
    {
      "cell_type": "markdown",
      "metadata": {
        "id": "EFWPztshDJEM"
      },
      "source": [
        "Check performance by comparing predictions `Y_pred` with true labels `Y_test`.\n",
        "\n",
        "Compute accuracy. Then generate confusion matrix."
      ]
    },
    {
      "cell_type": "code",
      "metadata": {
        "colab": {
          "base_uri": "https://localhost:8080/"
        },
        "id": "p6W6P9jJEBgb",
        "outputId": "7fa62629-79bf-4ac0-cd7c-6ae11acbd133"
      },
      "source": [
        "from sklearn.metrics import accuracy_score\n",
        "acc = accuracy_score(Y_test, Y_pred)\n",
        "print('Accuracy on test dataset: {}'.format(acc))"
      ],
      "execution_count": null,
      "outputs": [
        {
          "output_type": "stream",
          "text": [
            "Accuracy on test dataset: 0.9649122807017544\n"
          ],
          "name": "stdout"
        }
      ]
    },
    {
      "cell_type": "code",
      "metadata": {
        "colab": {
          "base_uri": "https://localhost:8080/",
          "height": 279
        },
        "id": "fXNYo1EKDJgl",
        "outputId": "d1bff01b-7d49-4b6a-c2c3-18eef6b92962"
      },
      "source": [
        "from sklearn.metrics import plot_confusion_matrix\n",
        "disp = plot_confusion_matrix(\n",
        "    classifier, X_test, Y_test,\n",
        "    display_labels=cancer_dataset.target_names,\n",
        "    cmap=plt.cm.gist_earth\n",
        ")"
      ],
      "execution_count": null,
      "outputs": [
        {
          "output_type": "display_data",
          "data": {
            "image/png": "[encoded data removed]",
            "text/plain": [
              "<Figure size 432x288 with 2 Axes>"
            ]
          },
          "metadata": {
            "tags": [],
            "needs_background": "light"
          }
        }
      ]
    },
    {
      "cell_type": "code",
      "metadata": {
        "id": "uI-wVCN0rHNO"
      },
      "source": [
        ""
      ],
      "execution_count": null,
      "outputs": []
    }
  ]
}