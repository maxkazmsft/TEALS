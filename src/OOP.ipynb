{
  "nbformat": 4,
  "nbformat_minor": 0,
  "metadata": {
    "colab": {
      "name": "OOP.ipynb",
      "provenance": [],
      "collapsed_sections": []
    },
    "kernelspec": {
      "name": "python3",
      "display_name": "Python 3"
    },
    "language_info": {
      "name": "python"
    }
  },
  "cells": [
    {
      "cell_type": "markdown",
      "metadata": {
        "id": "sCiFDA-un0n6"
      },
      "source": [
        "# Object Oriented Programming (OOP)\n",
        "\n",
        "Scenario: Students, Teachers, Courses\n",
        "\n",
        "```\n",
        "  student1_name = \"Koin\"\n",
        "  student2_name = \"Pam\"\n",
        "  student1_courses = [\"cs101\", \"cs102\"]\n",
        "  student2_courses = [\"cs103\", \"cs101\"]\n",
        "```\n",
        "\n",
        "## Classes"
      ]
    },
    {
      "cell_type": "code",
      "metadata": {
        "id": "F1Shqov4pL0Q"
      },
      "source": [
        "class Person:\n",
        "  \"\"\"Represents an individual in the system.\"\"\"\n",
        "  \n",
        "\n",
        "  def __init__(self, name):\n",
        "    self.name = name\n",
        "    self.courses = []\n",
        "  \n",
        "  def add_course(self, course):\n",
        "    self.courses.append(course)\n",
        "  \n",
        "  def print_info(self):\n",
        "    print(\"--Report--\")\n",
        "    print(\"Name: \" + self.name)\n",
        "\n",
        "p1 = Person(name=\"Koin\")\n",
        "p1.address = \"100 main st\""
      ],
      "execution_count": 15,
      "outputs": []
    },
    {
      "cell_type": "code",
      "metadata": {
        "id": "a8_UAly5rdtq",
        "colab": {
          "base_uri": "https://localhost:8080/"
        },
        "outputId": "30198f71-ed60-4c6e-ca9a-c77c26ed2fe9"
      },
      "source": [
        "print(p1.name)\n",
        "print(p1.address)\n",
        "print(p1.print_info())"
      ],
      "execution_count": 16,
      "outputs": [
        {
          "output_type": "stream",
          "text": [
            "Koin\n",
            "100 main st\n",
            "--Report--\n",
            "Name: Koin\n",
            "None\n"
          ],
          "name": "stdout"
        }
      ]
    },
    {
      "cell_type": "markdown",
      "metadata": {
        "id": "wRgashnDsMnk"
      },
      "source": [
        "### Inheritance"
      ]
    },
    {
      "cell_type": "code",
      "metadata": {
        "id": "rZgRR3zDsS0-"
      },
      "source": [
        "class Student(Person):\n",
        "  \"\"\"Represents a student in the system.\"\"\"\n",
        "\n",
        "s1 = Student(\"Pam\")\n",
        "print(s1.name)"
      ],
      "execution_count": null,
      "outputs": []
    },
    {
      "cell_type": "markdown",
      "metadata": {
        "id": "FyAZuyW81qja"
      },
      "source": [
        "### Encapsulation"
      ]
    },
    {
      "cell_type": "code",
      "metadata": {
        "id": "_C9_4oRCsoX3"
      },
      "source": [
        "class Student(Person):\n",
        "  \"\"\"Represents a student in the system.\"\"\"\n",
        "\n",
        "  def __init__(self, name, credits=0):\n",
        "    super().__init__(name=name)\n",
        "    self.credits_completed = credits\n",
        "\n",
        "  def print_info(self):\n",
        "    super().print_info()\n",
        "    print(\"Credits completed:\", self.credits_completed)\n",
        "\n",
        "\n",
        "s1 = Student(\"Pam\", credits=17)\n",
        "s1.print_info()\n"
      ],
      "execution_count": null,
      "outputs": []
    },
    {
      "cell_type": "markdown",
      "metadata": {
        "id": "-MupHJ00zbwd"
      },
      "source": [
        "### Polymorphism"
      ]
    },
    {
      "cell_type": "code",
      "metadata": {
        "id": "fLvcDgqJ10rT"
      },
      "source": [
        "class Student(Person):\n",
        "  \"\"\"Represents a student in the system.\"\"\"\n",
        "  \n",
        "  def print_info(self):\n",
        "    super().print_info()    \n",
        "    print(\"Courses registered:\", self.courses)\n",
        "\n",
        "class Teacher(Person):\n",
        "  \"\"\"Represents a teacher in the system.\"\"\"\n",
        "\n",
        "  def print_info(self):\n",
        "    super().print_info()\n",
        "    print(\"Courses taught:\", self.courses)"
      ],
      "execution_count": null,
      "outputs": []
    },
    {
      "cell_type": "code",
      "metadata": {
        "id": "O9iGSpnMzilV"
      },
      "source": [
        "s1 = Student(\"Kimo\")\n",
        "s1.add_course(\"cs109\")\n",
        "s1.add_course(\"cs111\")\n",
        "\n",
        "t1 = Teacher(\"Omik\")\n",
        "t1.add_course(\"cs009\")\n",
        "t1.add_course(\"cs987\")\n",
        "t1.add_course(\"cs876\")\n"
      ],
      "execution_count": null,
      "outputs": []
    },
    {
      "cell_type": "code",
      "metadata": {
        "id": "HpZ8e3JL4Zmq"
      },
      "source": [
        "\n",
        "s1.print_info()"
      ],
      "execution_count": null,
      "outputs": []
    },
    {
      "cell_type": "code",
      "metadata": {
        "id": "kxsAwqK54aey"
      },
      "source": [
        "t1.print_info()"
      ],
      "execution_count": null,
      "outputs": []
    },
    {
      "cell_type": "code",
      "metadata": {
        "id": "eSY5xnUbpq9X"
      },
      "source": [
        "persons = [s1, t1]"
      ],
      "execution_count": null,
      "outputs": []
    },
    {
      "cell_type": "code",
      "metadata": {
        "id": "87-mOYRpp0Pg"
      },
      "source": [
        "for p in persons:\n",
        "  p.print_info()"
      ],
      "execution_count": null,
      "outputs": []
    },
    {
      "cell_type": "code",
      "metadata": {
        "id": "GmftS0Isp4G0"
      },
      "source": [
        ""
      ],
      "execution_count": null,
      "outputs": []
    }
  ]
}